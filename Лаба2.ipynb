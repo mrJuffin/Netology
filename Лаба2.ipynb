{
 "cells": [
  {
   "cell_type": "code",
   "execution_count": null,
   "id": "4b8b13e0-3633-49a6-b098-5228d53e4c66",
   "metadata": {},
   "outputs": [],
   "source": [
    "#Задание \n",
    "#•\tПользователь должен ввести список товаров, которые он собирается купить, и цены на эти товары в разных магазинах.\n",
    "#•\tЗатем программа должна вывести список магазинов и общую стоимость покупок в каждом магазине, а также сообщить, в каком магазине пользователь может сэкономить больше всего денег.\n",
    "#•\tСписок товаров и магазинов определяется самостоятельно.\n",
    "\n",
    "\n",
    "\n",
    "\n",
    "#Магазин: TechWorld\n",
    "\n",
    "#Смартфон - 850 руб.\n",
    "#Планшет - 650 руб.\n",
    "#Наушники - 300 руб.\n",
    "#Bluetooth-колонка - 450 руб.\n",
    "#Умные часы - 750 руб.\n",
    "#Портативный зарядник - 400 руб.\n",
    "\n",
    "#Магазин: GadgetHub\n",
    "\n",
    "#Смартфон - 900 руб.\n",
    "#Планшет - 700 руб.\n",
    "#Наушники - 500 руб.\n",
    "#Bluetooth-колонка - 350 руб.\n",
    "#Умные часы - 600 руб.\n",
    "#Портативный зарядник - 200 руб.\n",
    "\n",
    "#Магазин: ElectronicsPro\n",
    "\n",
    "#Смартфон - 950 руб.\n",
    "#Планшет - 550 руб.\n",
    "#Наушники - 400 руб.\n",
    "#Bluetooth-колонка - 700 руб.\n",
    "#Умные часы - 500 руб.\n",
    "#Портативный зарядник - 600 руб."
   ]
  },
  {
   "cell_type": "code",
   "execution_count": 12,
   "id": "bfb6fbe4-c200-494f-8caf-7665e9c31418",
   "metadata": {
    "tags": []
   },
   "outputs": [],
   "source": [
    "# Можно что-то с этим сделать  mag_count = int(input(\"Введите количество магазинов:\"))"
   ]
  },
  {
   "cell_type": "code",
   "execution_count": 11,
   "id": "54919911-4f1a-48d0-b374-0eac0b3d79f9",
   "metadata": {
    "tags": []
   },
   "outputs": [],
   "source": [
    "# И с этим  \n",
    "# mag_list = input (\"Укажите через запятую:\") .split(\",\")\n",
    "# mag_new_list =[]\n",
    "# for mag in mag_list:\n",
    "#    mag_new_list .append(mag.strip())\n",
    "#    print(mag_list)"
   ]
  },
  {
   "cell_type": "code",
   "execution_count": 35,
   "id": "6248d5aa-4a15-40d3-98b6-22e03b14c184",
   "metadata": {
    "tags": []
   },
   "outputs": [
    {
     "name": "stdout",
     "output_type": "stream",
     "text": [
      "TechWorld\n",
      "Смартфон: 850\n",
      "Планшет: 650\n",
      "Наушники: 300\n",
      "Bluetooth-колонка: 450\n",
      "Умные часы: 750\n",
      "Портативный зарядник: 400\n",
      "GadgetHub\n",
      "Смартфон: 900\n",
      "Планшет: 700\n",
      "Наушники: 500\n",
      "Bluetooth-колонка: 350\n",
      "Умные часы: 600\n",
      "Портативный зарядник: 200\n",
      "ElectronicsPro\n",
      "Смартфон: 950\n",
      "Планшет: 550\n",
      "Наушники: 400\n",
      "Bluetooth-колонка: 700\n",
      "Умные часы: 500\n",
      "Портативный зарядник: 600\n"
     ]
    }
   ],
   "source": [
    "\n",
    "Positions = ['Смартфон', 'Планшет', 'Наушники', 'Bluetooth-колонка', 'Умные часы', 'Портативный зарядник']\n",
    "TechWorldPrices = [850, 650, 300, 450, 750, 400]\n",
    "GadgetHubPrices = [900, 700, 500, 350, 600, 200]\n",
    "ElectronicsProPrices  = [950, 550, 400, 700, 500, 600]\n",
    "\n",
    "a = dict(zip(Positions, TechWorldPrices))\n",
    "b = dict(zip(Positions, GadgetHubPrices))\n",
    "c = dict(zip(Positions, ElectronicsProPrices))\n",
    "print ('TechWorld')\n",
    "for key, value in a.items():\n",
    "    print(f\"{key}: {value}\")\n",
    "print ('GadgetHub')    \n",
    "for key, value in b.items():\n",
    "    print(f\"{key}: {value}\")\n",
    "print ('ElectronicsPro')    \n",
    "for key, value in c.items():\n",
    "    print(f\"{key}: {value}\")      \n",
    "    \n",
    "# Это только то что я успел сделать за лабораторную пару. Доделать пока что не было возможности ("
   ]
  },
  {
   "cell_type": "code",
   "execution_count": null,
   "id": "c488a5aa-449c-4bba-98a3-41e5f528320f",
   "metadata": {},
   "outputs": [],
   "source": []
  },
  {
   "cell_type": "code",
   "execution_count": null,
   "id": "4eba0301-fae2-4386-a6e2-088ce2310796",
   "metadata": {},
   "outputs": [],
   "source": []
  }
 ],
 "metadata": {
  "kernelspec": {
   "display_name": "Python 3",
   "language": "python",
   "name": "python3"
  },
  "language_info": {
   "codemirror_mode": {
    "name": "ipython",
    "version": 3
   },
   "file_extension": ".py",
   "mimetype": "text/x-python",
   "name": "python",
   "nbconvert_exporter": "python",
   "pygments_lexer": "ipython3",
   "version": "3.7.2"
  }
 },
 "nbformat": 4,
 "nbformat_minor": 5
}
