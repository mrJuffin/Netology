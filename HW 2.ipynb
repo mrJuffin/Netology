{
 "cells": [
  {
   "cell_type": "code",
   "execution_count": 23,
   "id": "f70412f1-118c-40ae-b7dc-64b0f6a674ab",
   "metadata": {
    "tags": []
   },
   "outputs": [
    {
     "name": "stdin",
     "output_type": "stream",
     "text": [
      "Введите слово qwertyuiopas\n"
     ]
    },
    {
     "name": "stdout",
     "output_type": "stream",
     "text": [
      "y u\n"
     ]
    }
   ],
   "source": [
    "a = str(input(\"Введите слово\"))\n",
    "b = len(a)\n",
    "c = round(b/2) - 1\n",
    "d = round(b/2)\n",
    "# print(c)\n",
    "if b % 2 == 0:\n",
    "   # print (a[1])\n",
    "    print(a[c], a[d])\n",
    "else:\n",
    "    print(a[c])\n"
   ]
  },
  {
   "cell_type": "code",
   "execution_count": null,
   "id": "96186984-7ffb-4fb1-b586-7fa01b83bc81",
   "metadata": {},
   "outputs": [],
   "source": []
  }
 ],
 "metadata": {
  "kernelspec": {
   "display_name": "Python 3",
   "language": "python",
   "name": "python3"
  },
  "language_info": {
   "codemirror_mode": {
    "name": "ipython",
    "version": 3
   },
   "file_extension": ".py",
   "mimetype": "text/x-python",
   "name": "python",
   "nbconvert_exporter": "python",
   "pygments_lexer": "ipython3",
   "version": "3.7.2"
  }
 },
 "nbformat": 4,
 "nbformat_minor": 5
}
