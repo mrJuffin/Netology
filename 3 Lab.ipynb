{
 "cells": [
  {
   "cell_type": "code",
   "execution_count": 1,
   "id": "82db47bc-9ab8-41c4-98db-c4561bca3112",
   "metadata": {
    "tags": []
   },
   "outputs": [
    {
     "name": "stdin",
     "output_type": "stream",
     "text": [
      " 5\n",
      " 5\n"
     ]
    },
    {
     "name": "stdout",
     "output_type": "stream",
     "text": [
      "24\n"
     ]
    }
   ],
   "source": [
    "n = int(input())\n",
    "m = int(input())\n",
    "\n",
    "\n",
    "def min_breaks(n, m):\n",
    "    if n == 1 and m == 1:\n",
    "        return 0\n",
    "    elif n == 1:\n",
    "        return m - 1\n",
    "    elif m == 1:\n",
    "        return n - 1\n",
    "    else:\n",
    "        pieces = n*m\n",
    "        return pieces - 1\n",
    "\n",
    "\n",
    "print(min_breaks(n, m))  \n"
   ]
  },
  {
   "cell_type": "code",
   "execution_count": null,
   "id": "ed34e89f-2652-4ccf-9a28-09acd98328a8",
   "metadata": {},
   "outputs": [],
   "source": []
  }
 ],
 "metadata": {
  "kernelspec": {
   "display_name": "Python 3",
   "language": "python",
   "name": "python3"
  },
  "language_info": {
   "codemirror_mode": {
    "name": "ipython",
    "version": 3
   },
   "file_extension": ".py",
   "mimetype": "text/x-python",
   "name": "python",
   "nbconvert_exporter": "python",
   "pygments_lexer": "ipython3",
   "version": "3.7.2"
  }
 },
 "nbformat": 4,
 "nbformat_minor": 5
}
