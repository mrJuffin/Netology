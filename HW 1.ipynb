{
 "cells": [
  {
   "cell_type": "code",
   "execution_count": null,
   "id": "fd481a75-3f1e-4e44-9725-fba4a6eb65cb",
   "metadata": {},
   "outputs": [],
   "source": [
    "user_input = int(input('Введите год'))\n",
    "if user_input % 4 == 0:\n",
    "    print('Высокосный год')\n",
    "else:\n",
    "    print('Обычный год')\n",
    "\n",
    " "
   ]
  }
 ],
 "metadata": {
  "kernelspec": {
   "display_name": "Python 3",
   "language": "python",
   "name": "python3"
  },
  "language_info": {
   "codemirror_mode": {
    "name": "ipython",
    "version": 3
   },
   "file_extension": ".py",
   "mimetype": "text/x-python",
   "name": "python",
   "nbconvert_exporter": "python",
   "pygments_lexer": "ipython3",
   "version": "3.7.2"
  }
 },
 "nbformat": 4,
 "nbformat_minor": 5
}
