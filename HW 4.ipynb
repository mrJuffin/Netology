{
 "cells": [
  {
   "cell_type": "code",
   "execution_count": null,
   "id": "4978975b-4531-4570-bc05-2c9420f7fa02",
   "metadata": {
    "tags": []
   },
   "outputs": [],
   "source": [
    "n = 8                                           # n - Блины\n",
    "\n",
    "def play(n, sourse, receiver, storage):\n",
    "    if n <= 0: return\n",
    "    play(n-1, sourse, storage, receiver)\n",
    "    print(\"Блин\", n, \":\",\"Стержень\", sourse, \"->\",\"Стержень\", receiver)\n",
    "    play(n-1, storage, receiver, sourse)\n",
    "\n",
    "play (n, '1', '2', '3')"
   ]
  },
  {
   "cell_type": "code",
   "execution_count": null,
   "id": "8b3a89a5-2a67-418d-af22-692c166bd2d9",
   "metadata": {},
   "outputs": [],
   "source": []
  }
 ],
 "metadata": {
  "kernelspec": {
   "display_name": "Python 3",
   "language": "python",
   "name": "python3"
  },
  "language_info": {
   "codemirror_mode": {
    "name": "ipython",
    "version": 3
   },
   "file_extension": ".py",
   "mimetype": "text/x-python",
   "name": "python",
   "nbconvert_exporter": "python",
   "pygments_lexer": "ipython3",
   "version": "3.7.2"
  }
 },
 "nbformat": 4,
 "nbformat_minor": 5
}
